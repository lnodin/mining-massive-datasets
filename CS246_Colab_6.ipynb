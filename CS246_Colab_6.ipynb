{
  "nbformat": 4,
  "nbformat_minor": 0,
  "metadata": {
    "colab": {
      "name": "CS246 - Colab 6.ipynb",
      "provenance": [],
      "collapsed_sections": [],
      "toc_visible": true,
      "machine_shape": "hm"
    },
    "kernelspec": {
      "name": "python3",
      "display_name": "Python 3"
    },
    "accelerator": "GPU"
  },
  "cells": [
    {
      "cell_type": "markdown",
      "metadata": {
        "id": "kPt5q27L5557"
      },
      "source": [
        "# CS246 - Colab 6\n",
        "## node2vec"
      ]
    },
    {
      "cell_type": "markdown",
      "metadata": {
        "id": "p0-YhEpP_Ds-"
      },
      "source": [
        "### Setup"
      ]
    },
    {
      "cell_type": "markdown",
      "metadata": {
        "id": "82kmj9fIVlq0"
      },
      "source": [
        "First of all, we install the [graph2vec library](https://github.com/VHRanger/graph2vec) which offers a fast implementation of the node2vec method.\n",
        "\n",
        "If you are curious to learn how to implement fast random walks on graphs, I recommend you to [read the blog post](https://www.singlelunch.com/2019/08/01/700x-faster-node2vec-models-fastest-random-walks-on-a-graph/) which explains some of the design choices behind this library."
      ]
    },
    {
      "cell_type": "code",
      "metadata": {
        "id": "Ld017NzXCo-g",
        "colab": {
          "base_uri": "https://localhost:8080/"
        },
        "outputId": "d1b9f81d-db60-4057-c2c0-de4a2960a875"
      },
      "source": [
        "!pip install nodevectors"
      ],
      "execution_count": 1,
      "outputs": [
        {
          "output_type": "stream",
          "name": "stdout",
          "text": [
            "Collecting nodevectors\n",
            "  Downloading nodevectors-0.1.23.tar.gz (15 kB)\n",
            "Collecting csrgraph\n",
            "  Downloading csrgraph-0.1.28.tar.gz (14 kB)\n",
            "Requirement already satisfied: gensim in /usr/local/lib/python3.7/dist-packages (from nodevectors) (3.6.0)\n",
            "Requirement already satisfied: networkx in /usr/local/lib/python3.7/dist-packages (from nodevectors) (2.6.3)\n",
            "Requirement already satisfied: numba in /usr/local/lib/python3.7/dist-packages (from nodevectors) (0.51.2)\n",
            "Requirement already satisfied: numpy in /usr/local/lib/python3.7/dist-packages (from nodevectors) (1.19.5)\n",
            "Requirement already satisfied: pandas>=1.0 in /usr/local/lib/python3.7/dist-packages (from nodevectors) (1.1.5)\n",
            "Requirement already satisfied: scipy in /usr/local/lib/python3.7/dist-packages (from nodevectors) (1.4.1)\n",
            "Requirement already satisfied: scikit-learn in /usr/local/lib/python3.7/dist-packages (from nodevectors) (0.22.2.post1)\n",
            "Requirement already satisfied: pytz>=2017.2 in /usr/local/lib/python3.7/dist-packages (from pandas>=1.0->nodevectors) (2018.9)\n",
            "Requirement already satisfied: python-dateutil>=2.7.3 in /usr/local/lib/python3.7/dist-packages (from pandas>=1.0->nodevectors) (2.8.2)\n",
            "Requirement already satisfied: six>=1.5 in /usr/local/lib/python3.7/dist-packages (from python-dateutil>=2.7.3->pandas>=1.0->nodevectors) (1.15.0)\n",
            "Requirement already satisfied: tqdm in /usr/local/lib/python3.7/dist-packages (from csrgraph->nodevectors) (4.62.2)\n",
            "Requirement already satisfied: smart-open>=1.2.1 in /usr/local/lib/python3.7/dist-packages (from gensim->nodevectors) (5.2.1)\n",
            "Requirement already satisfied: llvmlite<0.35,>=0.34.0.dev0 in /usr/local/lib/python3.7/dist-packages (from numba->nodevectors) (0.34.0)\n",
            "Requirement already satisfied: setuptools in /usr/local/lib/python3.7/dist-packages (from numba->nodevectors) (57.4.0)\n",
            "Requirement already satisfied: joblib>=0.11 in /usr/local/lib/python3.7/dist-packages (from scikit-learn->nodevectors) (1.0.1)\n",
            "Building wheels for collected packages: nodevectors, csrgraph\n",
            "  Building wheel for nodevectors (setup.py) ... \u001b[?25l\u001b[?25hdone\n",
            "  Created wheel for nodevectors: filename=nodevectors-0.1.23-py3-none-any.whl size=17951 sha256=975059bc43ee4f1535a74d09166947dc8f27cdfd10d701b049a4f34b92fbb61a\n",
            "  Stored in directory: /root/.cache/pip/wheels/6e/6a/11/ac8620f101db6248c3cd436636eb17f6f7430cd1ac3a3068dc\n",
            "  Building wheel for csrgraph (setup.py) ... \u001b[?25l\u001b[?25hdone\n",
            "  Created wheel for csrgraph: filename=csrgraph-0.1.28-py3-none-any.whl size=17632 sha256=9a3bde7e407c9da986786232f4b729e1aec3001fcb0129c75532bdac2ae76840\n",
            "  Stored in directory: /root/.cache/pip/wheels/3d/0a/58/36a63805f1cd719cbcc5a3c4c109604985a809e7d81bac1649\n",
            "Successfully built nodevectors csrgraph\n",
            "Installing collected packages: csrgraph, nodevectors\n",
            "Successfully installed csrgraph-0.1.28 nodevectors-0.1.23\n"
          ]
        }
      ]
    },
    {
      "cell_type": "markdown",
      "metadata": {
        "id": "pUCNE4-5Wc8b"
      },
      "source": [
        "We now import the library, and create a small wrapper class which will expose only the few hyperparameters we will need to tune in this Colab"
      ]
    },
    {
      "cell_type": "code",
      "metadata": {
        "id": "QiIPtudrGlTf"
      },
      "source": [
        "from nodevectors import Node2Vec\n",
        "import networkx as nx\n",
        "\n",
        "class Node2VecNew(Node2Vec):\n",
        "  \"\"\"\n",
        "  Parameters\n",
        "  ----------\n",
        "  p : float\n",
        "      p parameter of node2vec\n",
        "  q : float\n",
        "      q parameter of node2vec\n",
        "  d : int\n",
        "      dimensionality of the embedding vectors\n",
        "  \"\"\"\n",
        "  def __init__(self, p=1, q=1, d=32):\n",
        "    super().__init__(\n",
        "                 n_components=d,\n",
        "                     walklen=10,\n",
        "                     epochs=50,\n",
        "                     return_weight=1.0/p,\n",
        "                     neighbor_weight=1.0/q,\n",
        "                     threads=0,\n",
        "                     w2vparams={'window': 4,\n",
        "                                'negative': 5, \n",
        "                                'iter': 10,\n",
        "                                'ns_exponent': 0.5,\n",
        "                                'batch_words': 128})"
      ],
      "execution_count": 2,
      "outputs": []
    },
    {
      "cell_type": "markdown",
      "metadata": {
        "id": "qwtlO4_m_LbQ"
      },
      "source": [
        "Lastly, let's import some of the common libraries needed for our task."
      ]
    },
    {
      "cell_type": "code",
      "metadata": {
        "id": "twk-K-jilWK7"
      },
      "source": [
        "import pandas as pd\n",
        "import numpy as np\n",
        "import matplotlib.pyplot as plt\n",
        "%matplotlib inline"
      ],
      "execution_count": 3,
      "outputs": []
    },
    {
      "cell_type": "markdown",
      "metadata": {
        "id": "kAYRX2PMm0L6"
      },
      "source": [
        "### Example\n",
        "\n",
        "In the example below, we will try to reproduce the plot in slide 8 of [CS246 - Lecture 12](http://web.stanford.edu/class/cs246/slides/12-graphs2.pdf)."
      ]
    },
    {
      "cell_type": "code",
      "metadata": {
        "id": "2PsVt5f2CsmP",
        "colab": {
          "base_uri": "https://localhost:8080/"
        },
        "outputId": "0c7c87e0-60da-4d9e-8b8f-f46847eb4e72"
      },
      "source": [
        "# Load the Zachary's Karate Club as a NetworkX Graph object\n",
        "KCG = nx.karate_club_graph()\n",
        "\n",
        "# Fit embedding model to the Karate Club graph\n",
        "n2v = Node2VecNew(1, 1, 2)\n",
        "n2v.fit(KCG)"
      ],
      "execution_count": 4,
      "outputs": [
        {
          "output_type": "stream",
          "name": "stdout",
          "text": [
            "Making walks... "
          ]
        },
        {
          "output_type": "stream",
          "name": "stderr",
          "text": [
            "/usr/local/lib/python3.7/dist-packages/numba/np/ufunc/parallel.py:363: NumbaWarning: The TBB threading layer requires TBB version 2019.5 or later i.e., TBB_INTERFACE_VERSION >= 11005. Found TBB_INTERFACE_VERSION = 9107. The TBB threading layer is disabled.\n",
            "  warnings.warn(problem)\n"
          ]
        },
        {
          "output_type": "stream",
          "name": "stdout",
          "text": [
            "Done, T=3.38\n",
            "Mapping Walk Names... Done, T=0.04\n",
            "Training W2V... Done, T=0.45\n"
          ]
        }
      ]
    },
    {
      "cell_type": "code",
      "metadata": {
        "id": "ZEjzhwEiC1HD"
      },
      "source": [
        "embeddings = []\n",
        "for node in KCG.nodes:\n",
        "  embedding = list(n2v.predict(node))\n",
        "  club = KCG.nodes[node]['club']\n",
        "  embeddings.append(embedding + [club])\n",
        "\n",
        "# Construct a pandas dataframe with the 2D embeddings from node2vec,\n",
        "# plus the club name that each node belongs to after the split\n",
        "df = pd.DataFrame(embeddings, columns=['x', 'y', 'club'])"
      ],
      "execution_count": 5,
      "outputs": []
    },
    {
      "cell_type": "code",
      "metadata": {
        "id": "fJBTilMGLInb",
        "colab": {
          "base_uri": "https://localhost:8080/",
          "height": 301
        },
        "outputId": "a8d3d7b0-5300-4434-eb69-bffc45a1f8bf"
      },
      "source": [
        "# Nodes who stayed with the Mr. Hi will be plotted in red, while nodes\n",
        "# who moved with the Officer will be plotted in blue\n",
        "colors = ['red' if x == 'Mr. Hi' else 'blue' for x in df.club]\n",
        "df.plot.scatter(x='x', y='y', s=50, c=colors)"
      ],
      "execution_count": 6,
      "outputs": [
        {
          "output_type": "execute_result",
          "data": {
            "text/plain": [
              "<matplotlib.axes._subplots.AxesSubplot at 0x7fbe01968510>"
            ]
          },
          "metadata": {},
          "execution_count": 6
        },
        {
          "output_type": "display_data",
          "data": {
            "image/png": "[encoded data removed]",
            "text/plain": [
              "<Figure size 432x288 with 1 Axes>"
            ]
          },
          "metadata": {
            "needs_background": "light"
          }
        }
      ]
    },
    {
      "cell_type": "markdown",
      "metadata": {
        "id": "e6vmpmj6Ylph"
      },
      "source": [
        "If our example trained correctly, you should notice a clear separation between the blue and red nodes.  Solely from the graph structure, node2vec could predict how the Zachary's Karate Club split!\n",
        "\n",
        "Tune the hyperparameters ```p``` and ```q```, and notice how they affect the resulting embeddings."
      ]
    },
    {
      "cell_type": "markdown",
      "metadata": {
        "id": "vbmr23B2rJKR"
      },
      "source": [
        "### Your Task"
      ]
    },
    {
      "cell_type": "markdown",
      "metadata": {
        "id": "x15OQeyys1xd"
      },
      "source": [
        "Now we will study the behavior of node2vec on [barbell graphs](https://en.wikipedia.org/wiki/Barbell_graph).\n",
        "\n",
        "Below you can see a toy example of a barbell graph generated with NetworkX."
      ]
    },
    {
      "cell_type": "code",
      "metadata": {
        "id": "xUYxs4E8aHgG",
        "colab": {
          "base_uri": "https://localhost:8080/",
          "height": 319
        },
        "outputId": "5c4a0ee3-fd72-4ebf-bceb-39cffa6d9a8f"
      },
      "source": [
        "options = {\n",
        "    'node_color': 'blue',\n",
        "    'node_size': 1000,\n",
        "    'width': 1,\n",
        "    'arrowstyle': '-|>',\n",
        "    'arrowsize': 12,\n",
        "}\n",
        "\n",
        "toy_barbell = nx.barbell_graph(7, 0)\n",
        "\n",
        "nx.draw_kamada_kawai(toy_barbell,**options, with_labels = True)"
      ],
      "execution_count": 12,
      "outputs": [
        {
          "output_type": "display_data",
          "data": {
            "image/png": "[encoded data removed]",
            "text/plain": [
              "<Figure size 432x288 with 1 Axes>"
            ]
          },
          "metadata": {}
        }
      ]
    },
    {
      "cell_type": "markdown",
      "metadata": {
        "id": "G7K3-57FyD8D"
      },
      "source": [
        "\n",
        "\n",
        "\n",
        "Generate a larger barbell graph, where each complete graph has exactly 1000 nodes, and the path length between the complete graphs is equal to 1 (i.e., all the nodes in the barbell graph belong to either one of the two complete graphs, and the connecting path does not have any internal node).\n",
        "\n",
        "Then, learn node2vec embeddings on this graph, setting ```p = 1, q = 1``` and ```d = 10```."
      ]
    },
    {
      "cell_type": "code",
      "metadata": {
        "id": "k_rmp-SvaIOt"
      },
      "source": [
        "# YOUR CODE HERE\n",
        "# Init large barbell graph, where each complete graph has exactly 1000 nodes\n",
        "large_barbell = nx.barbell_graph(500, 0)"
      ],
      "execution_count": 13,
      "outputs": []
    },
    {
      "cell_type": "code",
      "metadata": {
        "colab": {
          "base_uri": "https://localhost:8080/"
        },
        "id": "GY9EmbUNx5t-",
        "outputId": "915de80b-5455-4f32-b711-4774815eea7d"
      },
      "source": [
        "# Setting parameters\n",
        "p = 1\n",
        "q = 1\n",
        "d = 10\n",
        "\n",
        "# Learn node2vec\n",
        "n2v_barbell = Node2Vec(p, q, d)\n",
        "\n",
        "# Fitting data\n",
        "n2v_barbell.fit(large_barbell)"
      ],
      "execution_count": 15,
      "outputs": [
        {
          "output_type": "stream",
          "name": "stdout",
          "text": [
            "Making walks... Done, T=0.00\n",
            "Mapping Walk Names... Done, T=0.02\n",
            "Training W2V... Done, T=0.66\n"
          ]
        }
      ]
    },
    {
      "cell_type": "markdown",
      "metadata": {
        "id": "fyxZBVwhzLQe"
      },
      "source": [
        "Write a function that takes as input a node id ```n``` in the graph (e.g., ```5```) and returns a list containing the cosine similarity between the node2vec vector of the input node ```n``` and all the nodes in the given barbell graph (including the similarity with ```n``` itself)."
      ]
    },
    {
      "cell_type": "code",
      "metadata": {
        "id": "aq7advtkjXSp"
      },
      "source": [
        "# YOUR CODE HERE\n",
        "from scipy import spatial\n",
        "\n",
        "\n",
        "def cosine_distance(a, b):\n",
        "    cosine_distance = float(spatial.distance.cosine(a, b))\n",
        "    return cosine_distance\n",
        "\n",
        "def similarity(n=5, g=large_barbell, embed=n2v_barbell):\n",
        "  result = []\n",
        "  a= embed.predict(n)\n",
        "  for node in g.nodes:\n",
        "    b = embed.predict(node)\n",
        "    result.append(cosine_distance(a, b))\n",
        "  return result"
      ],
      "execution_count": 17,
      "outputs": []
    },
    {
      "cell_type": "markdown",
      "metadata": {
        "id": "zw1oNDDD2dZO"
      },
      "source": [
        "Generate another barbell graph, this time adding a path of length 51 between the two complete graphs. To find out how, refer to the NetworkX documentation: [https://networkx.github.io/documentation/stable/reference/generated/networkx.generators.classic.barbell_graph.html#networkx.generators.classic.barbell_graph](https://networkx.github.io/documentation/stable/reference/generated/networkx.generators.classic.barbell_graph.html#networkx.generators.classic.barbell_graph)\n",
        "\n",
        "Learn the node2vec embeddings for the nodes of this new graph, using the same hyperparameters as before."
      ]
    },
    {
      "cell_type": "code",
      "metadata": {
        "id": "OlPg6k6z65Gk",
        "colab": {
          "base_uri": "https://localhost:8080/"
        },
        "outputId": "b219657c-4ce8-42e7-db31-8bb9ccc03ad8"
      },
      "source": [
        "# YOUR CODE HERE\n",
        "# Init large barbell graph, where each complete graph has exactly 1000 nodes\n",
        "large_barbell_v2 = nx.barbell_graph(500, 51)\n",
        "\n",
        "# Setting parameters\n",
        "p = 1\n",
        "q = 1\n",
        "d = 10\n",
        "\n",
        "# Learn node2vec\n",
        "n2v_barbell_v2 = Node2Vec(p, q, d)\n",
        "\n",
        "# Fitting data\n",
        "n2v_barbell_v2.fit(large_barbell_v2)"
      ],
      "execution_count": 24,
      "outputs": [
        {
          "output_type": "stream",
          "name": "stdout",
          "text": [
            "Making walks... Done, T=0.00\n",
            "Mapping Walk Names... Done, T=0.02\n",
            "Training W2V... Done, T=0.72\n"
          ]
        }
      ]
    },
    {
      "cell_type": "code",
      "metadata": {
        "colab": {
          "base_uri": "https://localhost:8080/",
          "height": 357
        },
        "id": "pDOps6ke2jvs",
        "outputId": "2fc3be85-8a83-4a4c-ef0a-736f916dc3fb"
      },
      "source": [
        "plt.hist(similarity(n=5, g=large_barbell, embed=n2v_barbell))"
      ],
      "execution_count": 25,
      "outputs": [
        {
          "output_type": "execute_result",
          "data": {
            "text/plain": [
              "(array([501.,   0.,   0.,   0.,   0.,   0.,   0.,   0.,   0., 499.]),\n",
              " array([-1.19209290e-07,  1.99999905e-01,  3.99999928e-01,  5.99999952e-01,\n",
              "         7.99999976e-01,  1.00000000e+00,  1.20000002e+00,  1.40000005e+00,\n",
              "         1.60000007e+00,  1.80000010e+00,  2.00000012e+00]),\n",
              " <a list of 10 Patch objects>)"
            ]
          },
          "metadata": {},
          "execution_count": 25
        },
        {
          "output_type": "display_data",
          "data": {
            "image/png": "[encoded data removed]",
            "text/plain": [
              "<Figure size 432x288 with 1 Axes>"
            ]
          },
          "metadata": {
            "needs_background": "light"
          }
        }
      ]
    },
    {
      "cell_type": "code",
      "metadata": {
        "colab": {
          "base_uri": "https://localhost:8080/",
          "height": 357
        },
        "id": "AV-2-SmE2qmi",
        "outputId": "5e29afc9-fad6-4e46-ad85-e1f747145383"
      },
      "source": [
        "plt.hist(similarity(n=5, g=large_barbell_v2, embed=n2v_barbell_v2))"
      ],
      "execution_count": 26,
      "outputs": [
        {
          "output_type": "execute_result",
          "data": {
            "text/plain": [
              "(array([525.,   0.,   0.,   0.,   0.,   0.,   0.,   0.,   0., 526.]),\n",
              " array([-1.19209290e-07,  1.99999905e-01,  3.99999928e-01,  5.99999952e-01,\n",
              "         7.99999976e-01,  1.00000000e+00,  1.20000002e+00,  1.40000005e+00,\n",
              "         1.60000007e+00,  1.80000010e+00,  2.00000012e+00]),\n",
              " <a list of 10 Patch objects>)"
            ]
          },
          "metadata": {},
          "execution_count": 26
        },
        {
          "output_type": "display_data",
          "data": {
            "image/png": "[encoded data removed]",
            "text/plain": [
              "<Figure size 432x288 with 1 Axes>"
            ]
          },
          "metadata": {
            "needs_background": "light"
          }
        }
      ]
    },
    {
      "cell_type": "markdown",
      "metadata": {
        "id": "SIrXJyVNP2AI"
      },
      "source": [
        "Once you have working code for each cell above, **head over to Gradescope, read carefully the questions, and submit your solution for this Colab**!\n"
      ]
    }
  ]
}